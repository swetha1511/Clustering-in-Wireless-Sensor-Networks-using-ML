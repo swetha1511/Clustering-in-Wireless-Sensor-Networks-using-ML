{
 "cells": [
  {
   "cell_type": "code",
   "execution_count": 1,
   "id": "31286658",
   "metadata": {},
   "outputs": [
    {
     "name": "stdout",
     "output_type": "stream",
     "text": [
      "Enter the number of nodes : 100\n",
      "Enter the length : 250\n",
      "Enter the breadth : 250\n"
     ]
    },
    {
     "data": {
      "text/plain": [
       "(100, 2)"
      ]
     },
     "execution_count": 1,
     "metadata": {},
     "output_type": "execute_result"
    },
    {
     "data": {
      "image/png": "[encoded data removed]",
      "text/plain": [
       "<Figure size 432x288 with 1 Axes>"
      ]
     },
     "metadata": {
      "needs_background": "light"
     },
     "output_type": "display_data"
    }
   ],
   "source": [
    "import matplotlib.pyplot as plt\n",
    "import random\n",
    "import numpy as np\n",
    "import pandas as pd\n",
    "from math import sqrt\n",
    "#Creating a node with x and y coordinates and default energy as 1\n",
    "class node:\n",
    "    def __init__(self,x,y,energy=1):\n",
    "            self.x= x\n",
    "            self.y= y\n",
    "            self.energy= energy\n",
    "    def __str__(self):\n",
    "        return str(self.energy)\n",
    "no_nodes = int(input(\"Enter the number of nodes : \"))\n",
    "length = int(input(\"Enter the length : \"))\n",
    "breadth = int(input(\"Enter the breadth : \"))\n",
    "a =[]\n",
    "i=0\n",
    "#Placing the node in the given rectangular space (according to input of length and bredth)\n",
    "for i in range(no_nodes):\n",
    "    n = node(length*random.random(),breadth*random.random())\n",
    "    a.append(n)\n",
    "x_loc=[]\n",
    "y_loc=[]\n",
    "for i in a:\n",
    "    x_loc.append(i.x)\n",
    "    y_loc.append(i.y)\n",
    "#Plotting the nodes in a graph to visualize them\n",
    "plt.plot(x_loc,y_loc,'o')\n",
    "df=pd.DataFrame()\n",
    "df[\"X\"] = x_loc\n",
    "df[\"Y\"] = y_loc\n",
    "df.shape"
   ]
  },
  {
   "cell_type": "code",
   "execution_count": 9,
   "id": "856109a2",
   "metadata": {
    "scrolled": false
   },
   "outputs": [
    {
     "name": "stderr",
     "output_type": "stream",
     "text": [
      "C:\\Users\\ABC\\anaconda3\\lib\\site-packages\\sklearn\\cluster\\_kmeans.py:1332: UserWarning: KMeans is known to have a memory leak on Windows with MKL, when there are less chunks than available threads. You can avoid it by setting the environment variable OMP_NUM_THREADS=1.\n",
      "  warnings.warn(\n",
      "C:\\Users\\ABC\\anaconda3\\lib\\site-packages\\sklearn\\cluster\\_kmeans.py:1332: UserWarning: KMeans is known to have a memory leak on Windows with MKL, when there are less chunks than available threads. You can avoid it by setting the environment variable OMP_NUM_THREADS=1.\n",
      "  warnings.warn(\n",
      "C:\\Users\\ABC\\anaconda3\\lib\\site-packages\\sklearn\\cluster\\_kmeans.py:1332: UserWarning: KMeans is known to have a memory leak on Windows with MKL, when there are less chunks than available threads. You can avoid it by setting the environment variable OMP_NUM_THREADS=1.\n",
      "  warnings.warn(\n",
      "C:\\Users\\ABC\\anaconda3\\lib\\site-packages\\sklearn\\cluster\\_kmeans.py:1332: UserWarning: KMeans is known to have a memory leak on Windows with MKL, when there are less chunks than available threads. You can avoid it by setting the environment variable OMP_NUM_THREADS=1.\n",
      "  warnings.warn(\n",
      "C:\\Users\\ABC\\anaconda3\\lib\\site-packages\\sklearn\\cluster\\_kmeans.py:1332: UserWarning: KMeans is known to have a memory leak on Windows with MKL, when there are less chunks than available threads. You can avoid it by setting the environment variable OMP_NUM_THREADS=1.\n",
      "  warnings.warn(\n",
      "C:\\Users\\ABC\\anaconda3\\lib\\site-packages\\sklearn\\cluster\\_kmeans.py:1332: UserWarning: KMeans is known to have a memory leak on Windows with MKL, when there are less chunks than available threads. You can avoid it by setting the environment variable OMP_NUM_THREADS=1.\n",
      "  warnings.warn(\n",
      "C:\\Users\\ABC\\anaconda3\\lib\\site-packages\\sklearn\\cluster\\_kmeans.py:1332: UserWarning: KMeans is known to have a memory leak on Windows with MKL, when there are less chunks than available threads. You can avoid it by setting the environment variable OMP_NUM_THREADS=1.\n",
      "  warnings.warn(\n",
      "C:\\Users\\ABC\\anaconda3\\lib\\site-packages\\sklearn\\cluster\\_kmeans.py:1332: UserWarning: KMeans is known to have a memory leak on Windows with MKL, when there are less chunks than available threads. You can avoid it by setting the environment variable OMP_NUM_THREADS=1.\n",
      "  warnings.warn(\n",
      "C:\\Users\\ABC\\anaconda3\\lib\\site-packages\\sklearn\\cluster\\_kmeans.py:1332: UserWarning: KMeans is known to have a memory leak on Windows with MKL, when there are less chunks than available threads. You can avoid it by setting the environment variable OMP_NUM_THREADS=1.\n",
      "  warnings.warn(\n",
      "C:\\Users\\ABC\\anaconda3\\lib\\site-packages\\sklearn\\cluster\\_kmeans.py:1332: UserWarning: KMeans is known to have a memory leak on Windows with MKL, when there are less chunks than available threads. You can avoid it by setting the environment variable OMP_NUM_THREADS=1.\n",
      "  warnings.warn(\n"
     ]
    },
    {
     "data": {
      "text/plain": [
       "[1166445.7449877814,\n",
       " 691174.324094993,\n",
       " 413251.5323601229,\n",
       " 271190.48808249785,\n",
       " 209182.78523317265,\n",
       " 167630.4801268635,\n",
       " 137395.6225481786,\n",
       " 117042.95978928047,\n",
       " 97096.03872679967,\n",
       " 82216.94920728821]"
      ]
     },
     "execution_count": 9,
     "metadata": {},
     "output_type": "execute_result"
    }
   ],
   "source": [
    "from sklearn.cluster import KMeans\n",
    "wcss =[]\n",
    "for i in range (1,11):\n",
    "    kmeans = KMeans(n_clusters = i, init = 'k-means++', max_iter =300, n_init = 10, random_state = 0)\n",
    "    #training them model\n",
    "    kmeans.fit(df)\n",
    "    #inertia is measured by squaring the distance between nodes and centoid of cluster  and adding the squares across one cluster\n",
    "    wcss.append(kmeans.inertia_)\n",
    "wcss"
   ]
  },
  {
   "cell_type": "code",
   "execution_count": 14,
   "id": "99029716",
   "metadata": {
    "scrolled": false
   },
   "outputs": [
    {
     "name": "stderr",
     "output_type": "stream",
     "text": [
      "C:\\Users\\ABC\\anaconda3\\lib\\site-packages\\sklearn\\cluster\\_kmeans.py:1332: UserWarning: KMeans is known to have a memory leak on Windows with MKL, when there are less chunks than available threads. You can avoid it by setting the environment variable OMP_NUM_THREADS=1.\n",
      "  warnings.warn(\n",
      "C:\\Users\\ABC\\anaconda3\\lib\\site-packages\\sklearn\\cluster\\_kmeans.py:1332: UserWarning: KMeans is known to have a memory leak on Windows with MKL, when there are less chunks than available threads. You can avoid it by setting the environment variable OMP_NUM_THREADS=1.\n",
      "  warnings.warn(\n",
      "C:\\Users\\ABC\\anaconda3\\lib\\site-packages\\sklearn\\cluster\\_kmeans.py:1332: UserWarning: KMeans is known to have a memory leak on Windows with MKL, when there are less chunks than available threads. You can avoid it by setting the environment variable OMP_NUM_THREADS=1.\n",
      "  warnings.warn(\n",
      "C:\\Users\\ABC\\anaconda3\\lib\\site-packages\\sklearn\\cluster\\_kmeans.py:1332: UserWarning: KMeans is known to have a memory leak on Windows with MKL, when there are less chunks than available threads. You can avoid it by setting the environment variable OMP_NUM_THREADS=1.\n",
      "  warnings.warn(\n",
      "C:\\Users\\ABC\\anaconda3\\lib\\site-packages\\sklearn\\cluster\\_kmeans.py:1332: UserWarning: KMeans is known to have a memory leak on Windows with MKL, when there are less chunks than available threads. You can avoid it by setting the environment variable OMP_NUM_THREADS=1.\n",
      "  warnings.warn(\n",
      "C:\\Users\\ABC\\anaconda3\\lib\\site-packages\\sklearn\\cluster\\_kmeans.py:1332: UserWarning: KMeans is known to have a memory leak on Windows with MKL, when there are less chunks than available threads. You can avoid it by setting the environment variable OMP_NUM_THREADS=1.\n",
      "  warnings.warn(\n",
      "C:\\Users\\ABC\\anaconda3\\lib\\site-packages\\sklearn\\cluster\\_kmeans.py:1332: UserWarning: KMeans is known to have a memory leak on Windows with MKL, when there are less chunks than available threads. You can avoid it by setting the environment variable OMP_NUM_THREADS=1.\n",
      "  warnings.warn(\n",
      "C:\\Users\\ABC\\anaconda3\\lib\\site-packages\\sklearn\\cluster\\_kmeans.py:1332: UserWarning: KMeans is known to have a memory leak on Windows with MKL, when there are less chunks than available threads. You can avoid it by setting the environment variable OMP_NUM_THREADS=1.\n",
      "  warnings.warn(\n",
      "C:\\Users\\ABC\\anaconda3\\lib\\site-packages\\sklearn\\cluster\\_kmeans.py:1332: UserWarning: KMeans is known to have a memory leak on Windows with MKL, when there are less chunks than available threads. You can avoid it by setting the environment variable OMP_NUM_THREADS=1.\n",
      "  warnings.warn(\n"
     ]
    },
    {
     "data": {
      "image/png": "[encoded data removed]",
      "text/plain": [
       "<Figure size 864x576 with 2 Axes>"
      ]
     },
     "metadata": {},
     "output_type": "display_data"
    },
    {
     "name": "stderr",
     "output_type": "stream",
     "text": [
      "C:\\Users\\ABC\\anaconda3\\lib\\site-packages\\sklearn\\cluster\\_kmeans.py:1332: UserWarning: KMeans is known to have a memory leak on Windows with MKL, when there are less chunks than available threads. You can avoid it by setting the environment variable OMP_NUM_THREADS=1.\n",
      "  warnings.warn(\n"
     ]
    },
    {
     "name": "stdout",
     "output_type": "stream",
     "text": [
      "\n",
      "[3 0 0 1 3 2 3 1 0 1 1 3 0 1 1 3 0 1 1 1 0 0 0 2 0 3 0 3 0 1 1 2 3 3 3 1 0\n",
      " 1 2 2 1 3 1 0 0 3 1 3 3 2 0 2 3 2 0 1 1 1 1 3 0 3 3 1 0 1 0 0 3 2 2 0 3 1\n",
      " 0 2 2 0 1 3 3 2 2 2 3 3 2 1 2 2 3 3 0 3 3 3 1 1 0 1]\n",
      "\n",
      "Printing centroids of clusters\n",
      "[[198.10173649 174.95232859]\n",
      " [ 56.3361428   75.1480793 ]\n",
      " [205.02582555  51.26443279]\n",
      " [ 71.93607532 210.811276  ]]\n",
      "Above are the centroids of clusters\n",
      "\n",
      "Printing positions of 4 centroids\n",
      "[198.10173649174374, 56.33614279644624, 205.02582554934145, 71.93607532092746]\n",
      "[174.9523285882052, 75.14807929777425, 51.264432792503484, 210.8112759964197]\n",
      "\n",
      "\n",
      "Printing distance\n",
      "[56.61628078645721, 53.18081134520218, 29.392667335357075, 81.56344157862287, 52.061811428790335, 15.326667301984548, 54.288440043619836, 67.86937869401217, 63.37666909975866, 69.92218643162882, 75.59559404004722, 40.7048625332141, 25.594675583648197, 8.049660993273626, 31.420973600310223, 80.39374465015764, 28.4822935215731, 69.58231388064594, 46.78108760839597, 73.38437461260736, 41.56847849995634, 40.646932872354064, 55.50973783799091, 26.567263225086254, 22.724259380468112, 56.67029328801063, 77.78752646593165, 31.419750274110136, 40.960747844776016, 34.499748181344124, 10.718799096338879, 58.035585577198404, 20.3202253467851, 29.749306813196192, 73.41699869285603, 64.79458882696545, 27.13481014342331, 70.43247434530689, 37.974036063678795, 60.27980853980167, 38.71747676043437, 76.27913017416937, 52.366098438399185, 43.425253652454785, 76.33733670641536, 49.72280125967099, 44.90132659237547, 66.78551107099777, 27.991110817318678, 35.07214870885859, 49.86178862885048, 44.35199856842441, 17.227804758523384, 19.60047177452435, 32.84369621458582, 46.874219619196005, 73.27393975411368, 71.0565232663861, 71.22238500009668, 47.11927339687275, 49.290212868141154, 25.487186913671035, 27.232339125203982, 71.58706457093623, 34.97621984963807, 84.16752059506712, 69.90619346822403, 37.86156783328556, 25.15412620812573, 65.75717843348214, 71.85038858503385, 79.11278300825632, 49.17886727101097, 24.406838453796432, 24.779209359292, 85.01423071111654, 45.64290679957172, 76.87438024753224, 49.97377321490722, 72.44958738926552, 68.62141678435604, 31.5135755105218, 56.03403949148252, 43.29104939067156, 60.43888077185488, 30.06979790057253, 22.671174350541477, 21.523663044298168, 43.20580633838402, 11.912918343409768, 17.61050005728475, 32.02449961996816, 15.344168764296027, 55.41676978148062, 53.21799549747613, 42.812754028648385, 77.74900030841592, 14.767032224017536, 55.7026539358265, 72.03688572618599]\n",
      "\n",
      "Printing number of Dead Nodes\n",
      "97\n",
      "\n",
      "Printing Final energy of nodes\n",
      "[-0.7292967800218799, -0.6387676868801196, -0.1673429343409466, -1.5566228005159295, -0.6105037302192298, -0.016377615340651106, -0.6673363333686819, -1.0655006154347528, -0.9239845246832378, -1.1333869172911308, -1.3315265211842096, -0.357652600123436, -0.11722098037568349, 0.024448709894464855, -0.1969466196779498, -1.5111570029299215, -0.15469785061971103, -1.122007617196288, -0.48523283787790783, -1.2524639449480335, -0.37470521715233734, -0.3565215564631563, -0.6995194387621466, -0.129396674064978, -0.08393407145382137, -0.730765313923705, -1.412215825685035, -0.1969281697489304, -0.3626678873608274, -0.24565582989831788, 0.012425763023850787, -0.7683510063891573, -0.05909877395452376, -0.17240510140782606, -1.2536133672961023, -0.967601297901302, -0.13671150116478475, -1.150576026176492, -0.306086579591662, -0.8320772762229126, -0.3197703216067005, -1.3564413680307437, -0.6181299837584397, -0.4125806371471413, -1.3585733541029252, -0.5533656716261188, -0.4438709911412074, -1.0304730773634763, -0.1480405483489243, -0.25521334761345815, -0.5566875116643767, -0.43210394648328887, -0.03123134163143324, -0.05220283850817944, -0.21889001144867148, -0.48732619157809165, -1.248576859301466, -1.171767079689577, -1.177430750024551, -0.49285422210784813, -0.5430860203008381, -0.11590320722542069, -0.13798407061518753, -1.1899298753319372, -0.2536006291928106, -1.660201165549036, -1.1328502124520201, -0.3040395965107006, -0.11185521567059907, -0.997761563727884, -1.1989948015569305, -1.4621197844748308, -0.5404546366543863, -0.1029665031943109, -0.10736221195315357, -1.6945806616166186, -0.4599859858674108, -1.378320881226106, -0.5593707222403548, -1.2197462510899546, -1.0901357219580685, -0.19834530594973265, -0.7135552596160104, -0.40978758976295404, -0.8366859941490183, -0.17700625898743683, -0.08335571514386655, -0.07118433700262167, -0.40801800832393265, 0.005939770370338928, -0.03443113094414786, -0.20613645821828772, -0.016506443616192083, -0.6970444095232362, -0.6397172107446216, -0.39990365780425907, -1.4107776917499872, -0.012335657769284709, -0.7046685573186431, -1.2054350972306396]\n",
      "Printed final energy of nodes\n"
     ]
    }
   ],
   "source": [
    "from sklearn.cluster import *\n",
    "from yellowbrick.cluster import *\n",
    "fig = plt.figure(figsize=(12,8))\n",
    "# KNears Neighbors\n",
    "# Instantiate the clustering model and visualizer\n",
    "kmeans = KMeans()\n",
    "visualizer = KElbowVisualizer(kmeans, k=(1,10))\n",
    "visualizer.fit(df) # training the model\n",
    "visualizer.poof()\n",
    "# Number of clusters\n",
    "kmeans = KMeans(n_clusters=4)\n",
    "# Fitting the input data\n",
    "kmeans = kmeans.fit(df)\n",
    "# Getting the cluster labels\n",
    "labels = kmeans.predict(df)\n",
    "print()\n",
    "print(labels)\n",
    "print()\n",
    "# Centroid values\n",
    "centroids = kmeans.cluster_centers_\n",
    "print('Printing centroids of clusters')\n",
    "print(centroids)\n",
    "print('Above are the centroids of clusters')\n",
    "#kmeans = KMeans(n_clusters=2, init ='k-means++', max_iter=300, n_init=10,random_state=0 )\n",
    "xcn = [centroids[i][0] for i in range(len(centroids))]\n",
    "ycn = [centroids[i][1] for i in range(len(centroids))]\n",
    "print()\n",
    "print('Printing positions of 4 centroids')\n",
    "print(xcn)\n",
    "print(ycn)\n",
    "print()\n",
    "x1 = xcn[0]\n",
    "x2 = xcn[1]\n",
    "x3 = xcn[2]\n",
    "x4 = xcn[3]\n",
    "y1 = ycn[0]\n",
    "y2 = ycn[1]\n",
    "y3 = ycn[2]\n",
    "y4 = ycn[3]\n",
    "lab = labels.tolist()\n",
    "dist = list()\n",
    "for i in range(100):\n",
    "    if lab[i] == 0:\n",
    "        dist.append(sqrt((x_loc[i]-x1)**2+(y_loc[i]-y1)**2))\n",
    "    if lab[i] == 1:\n",
    "        dist.append(sqrt((x_loc[i]-x2)**2+(y_loc[i]-y2)**2))\n",
    "    if lab[i] == 2:\n",
    "        dist.append(sqrt((x_loc[i]-x3)**2+(y_loc[i]-y3)**2))\n",
    "    if lab[i] == 3:\n",
    "        dist.append(sqrt((x_loc[i]-x4)**2+(y_loc[i]-y4)**2))\n",
    "print()\n",
    "print('Printing distance')\n",
    "print(dist)\n",
    "#Initially packet length or size is taken as 4000 \n",
    "l = 4000\n",
    "#Initially Free space energy loss is taken as 15*10^-12\n",
    "Efs = 15*(10**-12)\n",
    "#Initially multi route energy loss is taken as 0.0013*10^-12\n",
    "Emp = 0.0013*(10**-12)\n",
    "#Initially energy degeneration of nodes is taken as 60*10^-9\n",
    "Elec = 60*(10**-9)\n",
    "Etx = list()\n",
    "d0 = sqrt(Efs/Emp)\n",
    "for i in range(100):\n",
    "    if d0 > dist[i]:\n",
    "        Etx.append((Elec*l)+(Efs*l*dist[i]*dist[i]))\n",
    "    else:\n",
    "        Etx.append((Elec*l)+(Emp*l*dist[i]*dist[i]*dist[i]*dist[i]))\n",
    "final_energy = list()\n",
    "#final energy of all nodes are initially taken as 1\n",
    "for i in range(100):\n",
    "    final_energy.append(1)\n",
    "cnt =0\n",
    "#Calculating final energy of nodes\n",
    "for i in range(4000):\n",
    "    for j in range(100):\n",
    "        final_energy[j]-=Etx[j]\n",
    "deadnode = 0\n",
    "#If final energy of nodes is less than 0 then they are dead nodes\n",
    "for i in final_energy:\n",
    "    if i<0:\n",
    "        deadnode = deadnode+1\n",
    "print()\n",
    "print('Printing number of Dead Nodes')\n",
    "print(deadnode)\n",
    "print()\n",
    "print('Printing Final energy of nodes')\n",
    "print(final_energy)\n",
    "print('Printed final energy of nodes')"
   ]
  },
  {
   "cell_type": "code",
   "execution_count": 16,
   "id": "4d565e8a",
   "metadata": {
    "scrolled": false
   },
   "outputs": [
    {
     "data": {
      "text/html": [
       "        <script type=\"text/javascript\">\n",
       "        window.PlotlyConfig = {MathJaxConfig: 'local'};\n",
       "        if (window.MathJax && window.MathJax.Hub && window.MathJax.Hub.Config) {window.MathJax.Hub.Config({SVG: {font: \"STIX-Web\"}});}\n",
       "        if (typeof require !== 'undefined') {\n",
       "        require.undef(\"plotly\");\n",
       "        requirejs.config({\n",
       "            paths: {\n",
       "                'plotly': ['https://cdn.plot.ly/plotly-2.12.1.min']\n",
       "            }\n",
       "        });\n",
       "        require(['plotly'], function(Plotly) {\n",
       "            window._Plotly = Plotly;\n",
       "        });\n",
       "        }\n",
       "        </script>\n",
       "        "
      ]
     },
     "metadata": {},
     "output_type": "display_data"
    },
    {
     "data": {
      "application/vnd.plotly.v1+json": {
       "config": {
        "plotlyServerURL": "https://plot.ly"
       },
       "data": [
        {
         "marker": {
          "color": [
           3,
           0,
           0,
           1,
           3,
           2,
           3,
           1,
           0,
           1,
           1,
           3,
           0,
           1,
           1,
           3,
           0,
           1,
           1,
           1,
           0,
           0,
           0,
           2,
           0,
           3,
           0,
           3,
           0,
           1,
           1,
           2,
           3,
           3,
           3,
           1,
           0,
           1,
           2,
           2,
           1,
           3,
           1,
           0,
           0,
           3,
           1,
           3,
           3,
           2,
           0,
           2,
           3,
           2,
           0,
           1,
           1,
           1,
           1,
           3,
           0,
           3,
           3,
           1,
           0,
           1,
           0,
           0,
           3,
           2,
           2,
           0,
           3,
           1,
           0,
           2,
           2,
           0,
           1,
           3,
           3,
           2,
           2,
           2,
           3,
           3,
           2,
           1,
           2,
           2,
           3,
           3,
           0,
           3,
           3,
           3,
           1,
           1,
           0,
           1
          ]
         },
         "mode": "markers",
         "type": "scatter",
         "x": [
          50.796664338256164,
          145.00094110549125,
          198.49088737708936,
          111.17582406544862,
          19.941313868851175,
          219.594309605305,
          124.41131301706764,
          97.1195372086144,
          232.5830188834659,
          60.9624427293938,
          118.30712693467035,
          42.62538299450261,
          200.16381904226301,
          54.21098073497851,
          86.02815858635348,
          116.34631315115176,
          225.52068719398034,
          76.01102334361052,
          13.829512197267245,
          22.34282706794871,
          220.69932738709332,
          238.69535841123633,
          191.4494222713259,
          191.04966791751292,
          212.0518543712107,
          117.10529928856033,
          147.9950485300367,
          48.08844877177762,
          157.26691041868247,
          73.2042904809343,
          62.641244834819865,
          240.62004745849683,
          57.61244229233639,
          98.35026767612453,
          9.506819611374645,
          99.96496669741117,
          221.59570429863064,
          31.903040656655474,
          204.6850359287011,
          148.04898796794316,
          49.93759288833971,
          0.8775170777853003,
          30.6819513387859,
          232.5753397822665,
          139.92476218535677,
          120.68529728049674,
          11.510394949183045,
          29.61823951487491,
          99.78163489714909,
          233.72685271764132,
          194.0717649777622,
          226.06508708711308,
          63.14650403580338,
          214.50667848418917,
          230.76370625757198,
          36.31771071262768,
          12.964252287833656,
          125.12495758022571,
          79.41028654489249,
          113.78543364629823,
          245.31210591608365,
          54.28165997503812,
          93.02255213899387,
          127.04963880754971,
          169.4136065119652,
          3.0741420899919323,
          205.9677395979235,
          164.8141859780964,
          59.96542822052977,
          139.66944148930727,
          248.6429244056268,
          243.86681848198143,
          83.41416797882958,
          78.61895007339734,
          221.12659540603218,
          135.9447363407037,
          182.1690933766276,
          161.56889232208096,
          9.761198028919116,
          11.921622054185676,
          133.04334276792773,
          209.34003519246173,
          245.8314947986067,
          166.8413671402818,
          128.35800464796097,
          101.39274985679242,
          226.53325836381862,
          35.81676669122291,
          243.11338931364253,
          214.08245230016678,
          57.806164151082974,
          51.992618388023274,
          201.33695727640398,
          25.156497707193637,
          124.06254033667335,
          49.04994462125417,
          0.9877128932273549,
          64.07265573457127,
          150.28795830956213,
          4.382812141620507
         ],
         "y": [
          158.28957997090393,
          172.0361282039155,
          204.34241968495755,
          14.772551470154744,
          213.45267539609534,
          46.50355021709185,
          224.72472815982238,
          129.39720191310107,
          228.12791839031848,
          5.379106936775068,
          118.44116146118228,
          239.05608346953795,
          149.44085599670157,
          82.9121457786288,
          64.86888767959285,
          143.7972106463929,
          167.24245267238373,
          8.4053083001632,
          94.68411044356637,
          140.18438395191473,
          140.06268412845546,
          172.87122037695144,
          119.84264059820379,
          73.85838094507969,
          192.89072805805114,
          245.03500091804335,
          115.45258829300609,
          231.2683387195901,
          171.74299164949667,
          105.24289975363438,
          83.81631685528107,
          97.1030688975418,
          225.22464114847156,
          197.12508959960596,
          172.17652831226766,
          27.243335625836,
          161.37545861723655,
          9.089340570571286,
          13.291925930300652,
          70.94425232465638,
          113.33317541875115,
          238.54549674505168,
          120.79970277727189,
          148.54544821683805,
          125.52734870978117,
          220.60261520233973,
          77.75220289099008,
          159.1440207789578,
          213.6620823164819,
          31.10738304456656,
          224.6509935085495,
          12.220236668639389,
          225.6281816592605,
          34.109494103842565,
          178.4025622110372,
          32.763473108567254,
          16.08921577333447,
          57.33997835047078,
          7.766983912065095,
          189.1581669077932,
          160.78525043482372,
          229.19383064932993,
          228.04382629030434,
          63.998671431387514,
          154.9441514290148,
          140.3196283346562,
          244.4145620705108,
          156.91244777940105,
          232.93442390290124,
          44.0153240107207,
          108.3610791667118,
          239.48441135126401,
          162.9906279979209,
          85.10650603938214,
          165.79454018440725,
          1.7142306016830477,
          11.756905212316731,
          242.59123481322715,
          93.26306009370047,
          170.22546428876888,
          242.03307457774878,
          82.48130381784117,
          89.66639809185489,
          71.66203297861257,
          189.14507651497567,
          216.85255657833287,
          44.094183134130326,
          68.65013538474479,
          30.866413578613027,
          59.00362754085967,
          200.30055182536802,
          235.86775423009686,
          189.95155728643167,
          240.5213667282616,
          221.5344606787615,
          246.9935496827847,
          129.75081142911108,
          87.72629889608768,
          146.37562004016593,
          125.0496257567561
         ]
        }
       ],
       "layout": {
        "template": {
         "data": {
          "bar": [
           {
            "error_x": {
             "color": "#2a3f5f"
            },
            "error_y": {
             "color": "#2a3f5f"
            },
            "marker": {
             "line": {
              "color": "#E5ECF6",
              "width": 0.5
             },
             "pattern": {
              "fillmode": "overlay",
              "size": 10,
              "solidity": 0.2
             }
            },
            "type": "bar"
           }
          ],
          "barpolar": [
           {
            "marker": {
             "line": {
              "color": "#E5ECF6",
              "width": 0.5
             },
             "pattern": {
              "fillmode": "overlay",
              "size": 10,
              "solidity": 0.2
             }
            },
            "type": "barpolar"
           }
          ],
          "carpet": [
           {
            "aaxis": {
             "endlinecolor": "#2a3f5f",
             "gridcolor": "white",
             "linecolor": "white",
             "minorgridcolor": "white",
             "startlinecolor": "#2a3f5f"
            },
            "baxis": {
             "endlinecolor": "#2a3f5f",
             "gridcolor": "white",
             "linecolor": "white",
             "minorgridcolor": "white",
             "startlinecolor": "#2a3f5f"
            },
            "type": "carpet"
           }
          ],
          "choropleth": [
           {
            "colorbar": {
             "outlinewidth": 0,
             "ticks": ""
            },
            "type": "choropleth"
           }
          ],
          "contour": [
           {
            "colorbar": {
             "outlinewidth": 0,
             "ticks": ""
            },
            "colorscale": [
             [
              0,
              "#0d0887"
             ],
             [
              0.1111111111111111,
              "#46039f"
             ],
             [
              0.2222222222222222,
              "#7201a8"
             ],
             [
              0.3333333333333333,
              "#9c179e"
             ],
             [
              0.4444444444444444,
              "#bd3786"
             ],
             [
              0.5555555555555556,
              "#d8576b"
             ],
             [
              0.6666666666666666,
              "#ed7953"
             ],
             [
              0.7777777777777778,
              "#fb9f3a"
             ],
             [
              0.8888888888888888,
              "#fdca26"
             ],
             [
              1,
              "#f0f921"
             ]
            ],
            "type": "contour"
           }
          ],
          "contourcarpet": [
           {
            "colorbar": {
             "outlinewidth": 0,
             "ticks": ""
            },
            "type": "contourcarpet"
           }
          ],
          "heatmap": [
           {
            "colorbar": {
             "outlinewidth": 0,
             "ticks": ""
            },
            "colorscale": [
             [
              0,
              "#0d0887"
             ],
             [
              0.1111111111111111,
              "#46039f"
             ],
             [
              0.2222222222222222,
              "#7201a8"
             ],
             [
              0.3333333333333333,
              "#9c179e"
             ],
             [
              0.4444444444444444,
              "#bd3786"
             ],
             [
              0.5555555555555556,
              "#d8576b"
             ],
             [
              0.6666666666666666,
              "#ed7953"
             ],
             [
              0.7777777777777778,
              "#fb9f3a"
             ],
             [
              0.8888888888888888,
              "#fdca26"
             ],
             [
              1,
              "#f0f921"
             ]
            ],
            "type": "heatmap"
           }
          ],
          "heatmapgl": [
           {
            "colorbar": {
             "outlinewidth": 0,
             "ticks": ""
            },
            "colorscale": [
             [
              0,
              "#0d0887"
             ],
             [
              0.1111111111111111,
              "#46039f"
             ],
             [
              0.2222222222222222,
              "#7201a8"
             ],
             [
              0.3333333333333333,
              "#9c179e"
             ],
             [
              0.4444444444444444,
              "#bd3786"
             ],
             [
              0.5555555555555556,
              "#d8576b"
             ],
             [
              0.6666666666666666,
              "#ed7953"
             ],
             [
              0.7777777777777778,
              "#fb9f3a"
             ],
             [
              0.8888888888888888,
              "#fdca26"
             ],
             [
              1,
              "#f0f921"
             ]
            ],
            "type": "heatmapgl"
           }
          ],
          "histogram": [
           {
            "marker": {
             "pattern": {
              "fillmode": "overlay",
              "size": 10,
              "solidity": 0.2
             }
            },
            "type": "histogram"
           }
          ],
          "histogram2d": [
           {
            "colorbar": {
             "outlinewidth": 0,
             "ticks": ""
            },
            "colorscale": [
             [
              0,
              "#0d0887"
             ],
             [
              0.1111111111111111,
              "#46039f"
             ],
             [
              0.2222222222222222,
              "#7201a8"
             ],
             [
              0.3333333333333333,
              "#9c179e"
             ],
             [
              0.4444444444444444,
              "#bd3786"
             ],
             [
              0.5555555555555556,
              "#d8576b"
             ],
             [
              0.6666666666666666,
              "#ed7953"
             ],
             [
              0.7777777777777778,
              "#fb9f3a"
             ],
             [
              0.8888888888888888,
              "#fdca26"
             ],
             [
              1,
              "#f0f921"
             ]
            ],
            "type": "histogram2d"
           }
          ],
          "histogram2dcontour": [
           {
            "colorbar": {
             "outlinewidth": 0,
             "ticks": ""
            },
            "colorscale": [
             [
              0,
              "#0d0887"
             ],
             [
              0.1111111111111111,
              "#46039f"
             ],
             [
              0.2222222222222222,
              "#7201a8"
             ],
             [
              0.3333333333333333,
              "#9c179e"
             ],
             [
              0.4444444444444444,
              "#bd3786"
             ],
             [
              0.5555555555555556,
              "#d8576b"
             ],
             [
              0.6666666666666666,
              "#ed7953"
             ],
             [
              0.7777777777777778,
              "#fb9f3a"
             ],
             [
              0.8888888888888888,
              "#fdca26"
             ],
             [
              1,
              "#f0f921"
             ]
            ],
            "type": "histogram2dcontour"
           }
          ],
          "mesh3d": [
           {
            "colorbar": {
             "outlinewidth": 0,
             "ticks": ""
            },
            "type": "mesh3d"
           }
          ],
          "parcoords": [
           {
            "line": {
             "colorbar": {
              "outlinewidth": 0,
              "ticks": ""
             }
            },
            "type": "parcoords"
           }
          ],
          "pie": [
           {
            "automargin": true,
            "type": "pie"
           }
          ],
          "scatter": [
           {
            "fillpattern": {
             "fillmode": "overlay",
             "size": 10,
             "solidity": 0.2
            },
            "type": "scatter"
           }
          ],
          "scatter3d": [
           {
            "line": {
             "colorbar": {
              "outlinewidth": 0,
              "ticks": ""
             }
            },
            "marker": {
             "colorbar": {
              "outlinewidth": 0,
              "ticks": ""
             }
            },
            "type": "scatter3d"
           }
          ],
          "scattercarpet": [
           {
            "marker": {
             "colorbar": {
              "outlinewidth": 0,
              "ticks": ""
             }
            },
            "type": "scattercarpet"
           }
          ],
          "scattergeo": [
           {
            "marker": {
             "colorbar": {
              "outlinewidth": 0,
              "ticks": ""
             }
            },
            "type": "scattergeo"
           }
          ],
          "scattergl": [
           {
            "marker": {
             "colorbar": {
              "outlinewidth": 0,
              "ticks": ""
             }
            },
            "type": "scattergl"
           }
          ],
          "scattermapbox": [
           {
            "marker": {
             "colorbar": {
              "outlinewidth": 0,
              "ticks": ""
             }
            },
            "type": "scattermapbox"
           }
          ],
          "scatterpolar": [
           {
            "marker": {
             "colorbar": {
              "outlinewidth": 0,
              "ticks": ""
             }
            },
            "type": "scatterpolar"
           }
          ],
          "scatterpolargl": [
           {
            "marker": {
             "colorbar": {
              "outlinewidth": 0,
              "ticks": ""
             }
            },
            "type": "scatterpolargl"
           }
          ],
          "scatterternary": [
           {
            "marker": {
             "colorbar": {
              "outlinewidth": 0,
              "ticks": ""
             }
            },
            "type": "scatterternary"
           }
          ],
          "surface": [
           {
            "colorbar": {
             "outlinewidth": 0,
             "ticks": ""
            },
            "colorscale": [
             [
              0,
              "#0d0887"
             ],
             [
              0.1111111111111111,
              "#46039f"
             ],
             [
              0.2222222222222222,
              "#7201a8"
             ],
             [
              0.3333333333333333,
              "#9c179e"
             ],
             [
              0.4444444444444444,
              "#bd3786"
             ],
             [
              0.5555555555555556,
              "#d8576b"
             ],
             [
              0.6666666666666666,
              "#ed7953"
             ],
             [
              0.7777777777777778,
              "#fb9f3a"
             ],
             [
              0.8888888888888888,
              "#fdca26"
             ],
             [
              1,
              "#f0f921"
             ]
            ],
            "type": "surface"
           }
          ],
          "table": [
           {
            "cells": {
             "fill": {
              "color": "#EBF0F8"
             },
             "line": {
              "color": "white"
             }
            },
            "header": {
             "fill": {
              "color": "#C8D4E3"
             },
             "line": {
              "color": "white"
             }
            },
            "type": "table"
           }
          ]
         },
         "layout": {
          "annotationdefaults": {
           "arrowcolor": "#2a3f5f",
           "arrowhead": 0,
           "arrowwidth": 1
          },
          "autotypenumbers": "strict",
          "coloraxis": {
           "colorbar": {
            "outlinewidth": 0,
            "ticks": ""
           }
          },
          "colorscale": {
           "diverging": [
            [
             0,
             "#8e0152"
            ],
            [
             0.1,
             "#c51b7d"
            ],
            [
             0.2,
             "#de77ae"
            ],
            [
             0.3,
             "#f1b6da"
            ],
            [
             0.4,
             "#fde0ef"
            ],
            [
             0.5,
             "#f7f7f7"
            ],
            [
             0.6,
             "#e6f5d0"
            ],
            [
             0.7,
             "#b8e186"
            ],
            [
             0.8,
             "#7fbc41"
            ],
            [
             0.9,
             "#4d9221"
            ],
            [
             1,
             "#276419"
            ]
           ],
           "sequential": [
            [
             0,
             "#0d0887"
            ],
            [
             0.1111111111111111,
             "#46039f"
            ],
            [
             0.2222222222222222,
             "#7201a8"
            ],
            [
             0.3333333333333333,
             "#9c179e"
            ],
            [
             0.4444444444444444,
             "#bd3786"
            ],
            [
             0.5555555555555556,
             "#d8576b"
            ],
            [
             0.6666666666666666,
             "#ed7953"
            ],
            [
             0.7777777777777778,
             "#fb9f3a"
            ],
            [
             0.8888888888888888,
             "#fdca26"
            ],
            [
             1,
             "#f0f921"
            ]
           ],
           "sequentialminus": [
            [
             0,
             "#0d0887"
            ],
            [
             0.1111111111111111,
             "#46039f"
            ],
            [
             0.2222222222222222,
             "#7201a8"
            ],
            [
             0.3333333333333333,
             "#9c179e"
            ],
            [
             0.4444444444444444,
             "#bd3786"
            ],
            [
             0.5555555555555556,
             "#d8576b"
            ],
            [
             0.6666666666666666,
             "#ed7953"
            ],
            [
             0.7777777777777778,
             "#fb9f3a"
            ],
            [
             0.8888888888888888,
             "#fdca26"
            ],
            [
             1,
             "#f0f921"
            ]
           ]
          },
          "colorway": [
           "#636efa",
           "#EF553B",
           "#00cc96",
           "#ab63fa",
           "#FFA15A",
           "#19d3f3",
           "#FF6692",
           "#B6E880",
           "#FF97FF",
           "#FECB52"
          ],
          "font": {
           "color": "#2a3f5f"
          },
          "geo": {
           "bgcolor": "white",
           "lakecolor": "white",
           "landcolor": "#E5ECF6",
           "showlakes": true,
           "showland": true,
           "subunitcolor": "white"
          },
          "hoverlabel": {
           "align": "left"
          },
          "hovermode": "closest",
          "mapbox": {
           "style": "light"
          },
          "paper_bgcolor": "white",
          "plot_bgcolor": "#E5ECF6",
          "polar": {
           "angularaxis": {
            "gridcolor": "white",
            "linecolor": "white",
            "ticks": ""
           },
           "bgcolor": "#E5ECF6",
           "radialaxis": {
            "gridcolor": "white",
            "linecolor": "white",
            "ticks": ""
           }
          },
          "scene": {
           "xaxis": {
            "backgroundcolor": "#E5ECF6",
            "gridcolor": "white",
            "gridwidth": 2,
            "linecolor": "white",
            "showbackground": true,
            "ticks": "",
            "zerolinecolor": "white"
           },
           "yaxis": {
            "backgroundcolor": "#E5ECF6",
            "gridcolor": "white",
            "gridwidth": 2,
            "linecolor": "white",
            "showbackground": true,
            "ticks": "",
            "zerolinecolor": "white"
           },
           "zaxis": {
            "backgroundcolor": "#E5ECF6",
            "gridcolor": "white",
            "gridwidth": 2,
            "linecolor": "white",
            "showbackground": true,
            "ticks": "",
            "zerolinecolor": "white"
           }
          },
          "shapedefaults": {
           "line": {
            "color": "#2a3f5f"
           }
          },
          "ternary": {
           "aaxis": {
            "gridcolor": "white",
            "linecolor": "white",
            "ticks": ""
           },
           "baxis": {
            "gridcolor": "white",
            "linecolor": "white",
            "ticks": ""
           },
           "bgcolor": "#E5ECF6",
           "caxis": {
            "gridcolor": "white",
            "linecolor": "white",
            "ticks": ""
           }
          },
          "title": {
           "x": 0.05
          },
          "xaxis": {
           "automargin": true,
           "gridcolor": "white",
           "linecolor": "white",
           "ticks": "",
           "title": {
            "standoff": 15
           },
           "zerolinecolor": "white",
           "zerolinewidth": 2
          },
          "yaxis": {
           "automargin": true,
           "gridcolor": "white",
           "linecolor": "white",
           "ticks": "",
           "title": {
            "standoff": 15
           },
           "zerolinecolor": "white",
           "zerolinewidth": 2
          }
         }
        }
       }
      },
      "text/html": [
       "<div>                            <div id=\"6d288ae7-61c1-41aa-9a97-345f967e6b19\" class=\"plotly-graph-div\" style=\"height:525px; width:100%;\"></div>            <script type=\"text/javascript\">                require([\"plotly\"], function(Plotly) {                    window.PLOTLYENV=window.PLOTLYENV || {};                                    if (document.getElementById(\"6d288ae7-61c1-41aa-9a97-345f967e6b19\")) {                    Plotly.newPlot(                        \"6d288ae7-61c1-41aa-9a97-345f967e6b19\",                        [{\"marker\":{\"color\":[3,0,0,1,3,2,3,1,0,1,1,3,0,1,1,3,0,1,1,1,0,0,0,2,0,3,0,3,0,1,1,2,3,3,3,1,0,1,2,2,1,3,1,0,0,3,1,3,3,2,0,2,3,2,0,1,1,1,1,3,0,3,3,1,0,1,0,0,3,2,2,0,3,1,0,2,2,0,1,3,3,2,2,2,3,3,2,1,2,2,3,3,0,3,3,3,1,1,0,1]},\"mode\":\"markers\",\"x\":[50.796664338256164,145.00094110549125,198.49088737708936,111.17582406544862,19.941313868851175,219.594309605305,124.41131301706764,97.1195372086144,232.5830188834659,60.9624427293938,118.30712693467035,42.62538299450261,200.16381904226301,54.21098073497851,86.02815858635348,116.34631315115176,225.52068719398034,76.01102334361052,13.829512197267245,22.34282706794871,220.69932738709332,238.69535841123633,191.4494222713259,191.04966791751292,212.0518543712107,117.10529928856033,147.9950485300367,48.08844877177762,157.26691041868247,73.2042904809343,62.641244834819865,240.62004745849683,57.61244229233639,98.35026767612453,9.506819611374645,99.96496669741117,221.59570429863064,31.903040656655474,204.6850359287011,148.04898796794316,49.93759288833971,0.8775170777853003,30.6819513387859,232.5753397822665,139.92476218535677,120.68529728049674,11.510394949183045,29.61823951487491,99.78163489714909,233.72685271764132,194.0717649777622,226.06508708711308,63.14650403580338,214.50667848418917,230.76370625757198,36.31771071262768,12.964252287833656,125.12495758022571,79.41028654489249,113.78543364629823,245.31210591608365,54.28165997503812,93.02255213899387,127.04963880754971,169.4136065119652,3.0741420899919323,205.9677395979235,164.8141859780964,59.96542822052977,139.66944148930727,248.6429244056268,243.86681848198143,83.41416797882958,78.61895007339734,221.12659540603218,135.9447363407037,182.1690933766276,161.56889232208096,9.761198028919116,11.921622054185676,133.04334276792773,209.34003519246173,245.8314947986067,166.8413671402818,128.35800464796097,101.39274985679242,226.53325836381862,35.81676669122291,243.11338931364253,214.08245230016678,57.806164151082974,51.992618388023274,201.33695727640398,25.156497707193637,124.06254033667335,49.04994462125417,0.9877128932273549,64.07265573457127,150.28795830956213,4.382812141620507],\"y\":[158.28957997090393,172.0361282039155,204.34241968495755,14.772551470154744,213.45267539609534,46.50355021709185,224.72472815982238,129.39720191310107,228.12791839031848,5.379106936775068,118.44116146118228,239.05608346953795,149.44085599670157,82.9121457786288,64.86888767959285,143.7972106463929,167.24245267238373,8.4053083001632,94.68411044356637,140.18438395191473,140.06268412845546,172.87122037695144,119.84264059820379,73.85838094507969,192.89072805805114,245.03500091804335,115.45258829300609,231.2683387195901,171.74299164949667,105.24289975363438,83.81631685528107,97.1030688975418,225.22464114847156,197.12508959960596,172.17652831226766,27.243335625836,161.37545861723655,9.089340570571286,13.291925930300652,70.94425232465638,113.33317541875115,238.54549674505168,120.79970277727189,148.54544821683805,125.52734870978117,220.60261520233973,77.75220289099008,159.1440207789578,213.6620823164819,31.10738304456656,224.6509935085495,12.220236668639389,225.6281816592605,34.109494103842565,178.4025622110372,32.763473108567254,16.08921577333447,57.33997835047078,7.766983912065095,189.1581669077932,160.78525043482372,229.19383064932993,228.04382629030434,63.998671431387514,154.9441514290148,140.3196283346562,244.4145620705108,156.91244777940105,232.93442390290124,44.0153240107207,108.3610791667118,239.48441135126401,162.9906279979209,85.10650603938214,165.79454018440725,1.7142306016830477,11.756905212316731,242.59123481322715,93.26306009370047,170.22546428876888,242.03307457774878,82.48130381784117,89.66639809185489,71.66203297861257,189.14507651497567,216.85255657833287,44.094183134130326,68.65013538474479,30.866413578613027,59.00362754085967,200.30055182536802,235.86775423009686,189.95155728643167,240.5213667282616,221.5344606787615,246.9935496827847,129.75081142911108,87.72629889608768,146.37562004016593,125.0496257567561],\"type\":\"scatter\"}],                        {\"template\":{\"data\":{\"histogram2dcontour\":[{\"type\":\"histogram2dcontour\",\"colorbar\":{\"outlinewidth\":0,\"ticks\":\"\"},\"colorscale\":[[0.0,\"#0d0887\"],[0.1111111111111111,\"#46039f\"],[0.2222222222222222,\"#7201a8\"],[0.3333333333333333,\"#9c179e\"],[0.4444444444444444,\"#bd3786\"],[0.5555555555555556,\"#d8576b\"],[0.6666666666666666,\"#ed7953\"],[0.7777777777777778,\"#fb9f3a\"],[0.8888888888888888,\"#fdca26\"],[1.0,\"#f0f921\"]]}],\"choropleth\":[{\"type\":\"choropleth\",\"colorbar\":{\"outlinewidth\":0,\"ticks\":\"\"}}],\"histogram2d\":[{\"type\":\"histogram2d\",\"colorbar\":{\"outlinewidth\":0,\"ticks\":\"\"},\"colorscale\":[[0.0,\"#0d0887\"],[0.1111111111111111,\"#46039f\"],[0.2222222222222222,\"#7201a8\"],[0.3333333333333333,\"#9c179e\"],[0.4444444444444444,\"#bd3786\"],[0.5555555555555556,\"#d8576b\"],[0.6666666666666666,\"#ed7953\"],[0.7777777777777778,\"#fb9f3a\"],[0.8888888888888888,\"#fdca26\"],[1.0,\"#f0f921\"]]}],\"heatmap\":[{\"type\":\"heatmap\",\"colorbar\":{\"outlinewidth\":0,\"ticks\":\"\"},\"colorscale\":[[0.0,\"#0d0887\"],[0.1111111111111111,\"#46039f\"],[0.2222222222222222,\"#7201a8\"],[0.3333333333333333,\"#9c179e\"],[0.4444444444444444,\"#bd3786\"],[0.5555555555555556,\"#d8576b\"],[0.6666666666666666,\"#ed7953\"],[0.7777777777777778,\"#fb9f3a\"],[0.8888888888888888,\"#fdca26\"],[1.0,\"#f0f921\"]]}],\"heatmapgl\":[{\"type\":\"heatmapgl\",\"colorbar\":{\"outlinewidth\":0,\"ticks\":\"\"},\"colorscale\":[[0.0,\"#0d0887\"],[0.1111111111111111,\"#46039f\"],[0.2222222222222222,\"#7201a8\"],[0.3333333333333333,\"#9c179e\"],[0.4444444444444444,\"#bd3786\"],[0.5555555555555556,\"#d8576b\"],[0.6666666666666666,\"#ed7953\"],[0.7777777777777778,\"#fb9f3a\"],[0.8888888888888888,\"#fdca26\"],[1.0,\"#f0f921\"]]}],\"contourcarpet\":[{\"type\":\"contourcarpet\",\"colorbar\":{\"outlinewidth\":0,\"ticks\":\"\"}}],\"contour\":[{\"type\":\"contour\",\"colorbar\":{\"outlinewidth\":0,\"ticks\":\"\"},\"colorscale\":[[0.0,\"#0d0887\"],[0.1111111111111111,\"#46039f\"],[0.2222222222222222,\"#7201a8\"],[0.3333333333333333,\"#9c179e\"],[0.4444444444444444,\"#bd3786\"],[0.5555555555555556,\"#d8576b\"],[0.6666666666666666,\"#ed7953\"],[0.7777777777777778,\"#fb9f3a\"],[0.8888888888888888,\"#fdca26\"],[1.0,\"#f0f921\"]]}],\"surface\":[{\"type\":\"surface\",\"colorbar\":{\"outlinewidth\":0,\"ticks\":\"\"},\"colorscale\":[[0.0,\"#0d0887\"],[0.1111111111111111,\"#46039f\"],[0.2222222222222222,\"#7201a8\"],[0.3333333333333333,\"#9c179e\"],[0.4444444444444444,\"#bd3786\"],[0.5555555555555556,\"#d8576b\"],[0.6666666666666666,\"#ed7953\"],[0.7777777777777778,\"#fb9f3a\"],[0.8888888888888888,\"#fdca26\"],[1.0,\"#f0f921\"]]}],\"mesh3d\":[{\"type\":\"mesh3d\",\"colorbar\":{\"outlinewidth\":0,\"ticks\":\"\"}}],\"scatter\":[{\"fillpattern\":{\"fillmode\":\"overlay\",\"size\":10,\"solidity\":0.2},\"type\":\"scatter\"}],\"parcoords\":[{\"type\":\"parcoords\",\"line\":{\"colorbar\":{\"outlinewidth\":0,\"ticks\":\"\"}}}],\"scatterpolargl\":[{\"type\":\"scatterpolargl\",\"marker\":{\"colorbar\":{\"outlinewidth\":0,\"ticks\":\"\"}}}],\"bar\":[{\"error_x\":{\"color\":\"#2a3f5f\"},\"error_y\":{\"color\":\"#2a3f5f\"},\"marker\":{\"line\":{\"color\":\"#E5ECF6\",\"width\":0.5},\"pattern\":{\"fillmode\":\"overlay\",\"size\":10,\"solidity\":0.2}},\"type\":\"bar\"}],\"scattergeo\":[{\"type\":\"scattergeo\",\"marker\":{\"colorbar\":{\"outlinewidth\":0,\"ticks\":\"\"}}}],\"scatterpolar\":[{\"type\":\"scatterpolar\",\"marker\":{\"colorbar\":{\"outlinewidth\":0,\"ticks\":\"\"}}}],\"histogram\":[{\"marker\":{\"pattern\":{\"fillmode\":\"overlay\",\"size\":10,\"solidity\":0.2}},\"type\":\"histogram\"}],\"scattergl\":[{\"type\":\"scattergl\",\"marker\":{\"colorbar\":{\"outlinewidth\":0,\"ticks\":\"\"}}}],\"scatter3d\":[{\"type\":\"scatter3d\",\"line\":{\"colorbar\":{\"outlinewidth\":0,\"ticks\":\"\"}},\"marker\":{\"colorbar\":{\"outlinewidth\":0,\"ticks\":\"\"}}}],\"scattermapbox\":[{\"type\":\"scattermapbox\",\"marker\":{\"colorbar\":{\"outlinewidth\":0,\"ticks\":\"\"}}}],\"scatterternary\":[{\"type\":\"scatterternary\",\"marker\":{\"colorbar\":{\"outlinewidth\":0,\"ticks\":\"\"}}}],\"scattercarpet\":[{\"type\":\"scattercarpet\",\"marker\":{\"colorbar\":{\"outlinewidth\":0,\"ticks\":\"\"}}}],\"carpet\":[{\"aaxis\":{\"endlinecolor\":\"#2a3f5f\",\"gridcolor\":\"white\",\"linecolor\":\"white\",\"minorgridcolor\":\"white\",\"startlinecolor\":\"#2a3f5f\"},\"baxis\":{\"endlinecolor\":\"#2a3f5f\",\"gridcolor\":\"white\",\"linecolor\":\"white\",\"minorgridcolor\":\"white\",\"startlinecolor\":\"#2a3f5f\"},\"type\":\"carpet\"}],\"table\":[{\"cells\":{\"fill\":{\"color\":\"#EBF0F8\"},\"line\":{\"color\":\"white\"}},\"header\":{\"fill\":{\"color\":\"#C8D4E3\"},\"line\":{\"color\":\"white\"}},\"type\":\"table\"}],\"barpolar\":[{\"marker\":{\"line\":{\"color\":\"#E5ECF6\",\"width\":0.5},\"pattern\":{\"fillmode\":\"overlay\",\"size\":10,\"solidity\":0.2}},\"type\":\"barpolar\"}],\"pie\":[{\"automargin\":true,\"type\":\"pie\"}]},\"layout\":{\"autotypenumbers\":\"strict\",\"colorway\":[\"#636efa\",\"#EF553B\",\"#00cc96\",\"#ab63fa\",\"#FFA15A\",\"#19d3f3\",\"#FF6692\",\"#B6E880\",\"#FF97FF\",\"#FECB52\"],\"font\":{\"color\":\"#2a3f5f\"},\"hovermode\":\"closest\",\"hoverlabel\":{\"align\":\"left\"},\"paper_bgcolor\":\"white\",\"plot_bgcolor\":\"#E5ECF6\",\"polar\":{\"bgcolor\":\"#E5ECF6\",\"angularaxis\":{\"gridcolor\":\"white\",\"linecolor\":\"white\",\"ticks\":\"\"},\"radialaxis\":{\"gridcolor\":\"white\",\"linecolor\":\"white\",\"ticks\":\"\"}},\"ternary\":{\"bgcolor\":\"#E5ECF6\",\"aaxis\":{\"gridcolor\":\"white\",\"linecolor\":\"white\",\"ticks\":\"\"},\"baxis\":{\"gridcolor\":\"white\",\"linecolor\":\"white\",\"ticks\":\"\"},\"caxis\":{\"gridcolor\":\"white\",\"linecolor\":\"white\",\"ticks\":\"\"}},\"coloraxis\":{\"colorbar\":{\"outlinewidth\":0,\"ticks\":\"\"}},\"colorscale\":{\"sequential\":[[0.0,\"#0d0887\"],[0.1111111111111111,\"#46039f\"],[0.2222222222222222,\"#7201a8\"],[0.3333333333333333,\"#9c179e\"],[0.4444444444444444,\"#bd3786\"],[0.5555555555555556,\"#d8576b\"],[0.6666666666666666,\"#ed7953\"],[0.7777777777777778,\"#fb9f3a\"],[0.8888888888888888,\"#fdca26\"],[1.0,\"#f0f921\"]],\"sequentialminus\":[[0.0,\"#0d0887\"],[0.1111111111111111,\"#46039f\"],[0.2222222222222222,\"#7201a8\"],[0.3333333333333333,\"#9c179e\"],[0.4444444444444444,\"#bd3786\"],[0.5555555555555556,\"#d8576b\"],[0.6666666666666666,\"#ed7953\"],[0.7777777777777778,\"#fb9f3a\"],[0.8888888888888888,\"#fdca26\"],[1.0,\"#f0f921\"]],\"diverging\":[[0,\"#8e0152\"],[0.1,\"#c51b7d\"],[0.2,\"#de77ae\"],[0.3,\"#f1b6da\"],[0.4,\"#fde0ef\"],[0.5,\"#f7f7f7\"],[0.6,\"#e6f5d0\"],[0.7,\"#b8e186\"],[0.8,\"#7fbc41\"],[0.9,\"#4d9221\"],[1,\"#276419\"]]},\"xaxis\":{\"gridcolor\":\"white\",\"linecolor\":\"white\",\"ticks\":\"\",\"title\":{\"standoff\":15},\"zerolinecolor\":\"white\",\"automargin\":true,\"zerolinewidth\":2},\"yaxis\":{\"gridcolor\":\"white\",\"linecolor\":\"white\",\"ticks\":\"\",\"title\":{\"standoff\":15},\"zerolinecolor\":\"white\",\"automargin\":true,\"zerolinewidth\":2},\"scene\":{\"xaxis\":{\"backgroundcolor\":\"#E5ECF6\",\"gridcolor\":\"white\",\"linecolor\":\"white\",\"showbackground\":true,\"ticks\":\"\",\"zerolinecolor\":\"white\",\"gridwidth\":2},\"yaxis\":{\"backgroundcolor\":\"#E5ECF6\",\"gridcolor\":\"white\",\"linecolor\":\"white\",\"showbackground\":true,\"ticks\":\"\",\"zerolinecolor\":\"white\",\"gridwidth\":2},\"zaxis\":{\"backgroundcolor\":\"#E5ECF6\",\"gridcolor\":\"white\",\"linecolor\":\"white\",\"showbackground\":true,\"ticks\":\"\",\"zerolinecolor\":\"white\",\"gridwidth\":2}},\"shapedefaults\":{\"line\":{\"color\":\"#2a3f5f\"}},\"annotationdefaults\":{\"arrowcolor\":\"#2a3f5f\",\"arrowhead\":0,\"arrowwidth\":1},\"geo\":{\"bgcolor\":\"white\",\"landcolor\":\"#E5ECF6\",\"subunitcolor\":\"white\",\"showland\":true,\"showlakes\":true,\"lakecolor\":\"white\"},\"title\":{\"x\":0.05},\"mapbox\":{\"style\":\"light\"}}}},                        {\"responsive\": true}                    ).then(function(){\n",
       "                            \n",
       "var gd = document.getElementById('6d288ae7-61c1-41aa-9a97-345f967e6b19');\n",
       "var x = new MutationObserver(function (mutations, observer) {{\n",
       "        var display = window.getComputedStyle(gd).display;\n",
       "        if (!display || display === 'none') {{\n",
       "            console.log([gd, 'removed!']);\n",
       "            Plotly.purge(gd);\n",
       "            observer.disconnect();\n",
       "        }}\n",
       "}});\n",
       "\n",
       "// Listen for the removal of the full notebook cells\n",
       "var notebookContainer = gd.closest('#notebook-container');\n",
       "if (notebookContainer) {{\n",
       "    x.observe(notebookContainer, {childList: true});\n",
       "}}\n",
       "\n",
       "// Listen for the clearing of the current output cell\n",
       "var outputEl = gd.closest('.output');\n",
       "if (outputEl) {{\n",
       "    x.observe(outputEl, {childList: true});\n",
       "}}\n",
       "\n",
       "                        })                };                });            </script>        </div>"
      ]
     },
     "metadata": {},
     "output_type": "display_data"
    }
   ],
   "source": [
    "from plotly import tools\n",
    "import plotly.figure_factory as ff\n",
    "import plotly.graph_objs as go\n",
    "from plotly.offline import download_plotlyjs, init_notebook_mode, plot, iplot\n",
    "init_notebook_mode(connected=True)\n",
    "fig = go.Figure(data=go.Scatter(x=df['X'], y=df['Y'],mode='markers',marker=dict(color=labels)))\n",
    "fig.show()\n",
    "#From the above code we can see the exact location of nodes by placing the curser on the node"
   ]
  },
  {
   "cell_type": "code",
   "execution_count": 18,
   "id": "39de0038",
   "metadata": {},
   "outputs": [
    {
     "data": {
      "text/plain": [
       "Text(0.5, 1.0, 'K-Means')"
      ]
     },
     "execution_count": 18,
     "metadata": {},
     "output_type": "execute_result"
    },
    {
     "data": {
      "image/png": "[encoded data removed]",
      "text/plain": [
       "<Figure size 576x396 with 1 Axes>"
      ]
     },
     "metadata": {},
     "output_type": "display_data"
    }
   ],
   "source": [
    "import seaborn as sns\n",
    "sns.scatterplot(x = df[\"X\"] , y = df[\"Y\"] , hue = labels,palette='deep',sizes = (500,500),legend = 'full')\n",
    "sns.scatterplot(x = xcn ,y = ycn , color = 'black')\n",
    "plt.title(\"K-Means\")\n",
    "#Black points are centroids of the cluster"
   ]
  },
  {
   "cell_type": "code",
   "execution_count": 33,
   "id": "6ed312de",
   "metadata": {
    "scrolled": false
   },
   "outputs": [
    {
     "name": "stdout",
     "output_type": "stream",
     "text": [
      "Printing labels for nodes\n",
      "[2 0 0 4 1 3 1 2 0 4 2 1 0 2 4 0 0 4 2 2 0 0 3 3 0 1 0 1 0 2 2 3 1 1 2 4 0\n",
      " 4 3 3 2 1 2 0 0 1 2 2 1 3 0 3 1 3 0 4 4 4 4 0 0 1 1 4 0 2 0 0 1 4 3 0 1 4\n",
      " 0 4 3 0 2 2 1 3 3 3 0 1 3 2 3 3 1 1 0 1 1 1 2 2 0 2]\n",
      "[[161.06890185 178.55518755]\n",
      " [ 70.3499954  213.20463547]\n",
      " [ 46.58882006 117.83007029]\n",
      " [197.43519956  60.84187802]\n",
      " [ 83.80568485  51.75444612]]\n",
      "[161.06890184776492, 70.34999539841945, 46.58882006347995, 197.43519955888473, 83.80568484801934]\n",
      "[178.55518755026202, 213.20463547320637, 117.83007028556523, 60.84187801602132, 51.75444612245769]\n",
      "84\n"
     ]
    }
   ],
   "source": [
    "from sklearn.cluster import MeanShift\n",
    "#training the model\n",
    "clustering_ms = MeanShift(bandwidth=75).fit(df)\n",
    "#Creating new labes for nodes\n",
    "labels1 = clustering_ms.labels_\n",
    "print('Printing labels for nodes')\n",
    "print(labels1)\n",
    "centroids = clustering_ms.cluster_centers_\n",
    "print(centroids)\n",
    "xcn_ms = [centroids[i][0] for i in range(len(centroids))]\n",
    "ycn_ms = [centroids[i][1] for i in range(len(centroids))]\n",
    "print(xcn_ms)\n",
    "print(ycn_ms)\n",
    "lab1 = labels1.tolist()\n",
    "dist1 = list()\n",
    "Etx1 = list()\n",
    "x1 = xcn_ms[0]\n",
    "x2 = xcn_ms[1]\n",
    "x3 = xcn_ms[2]\n",
    "x4 = xcn_ms[3]\n",
    "y1 = ycn_ms[0]\n",
    "y2 = ycn_ms[1]\n",
    "y3 = ycn_ms[2]\n",
    "y4 = ycn_ms[3]\n",
    "for i in range(100):\n",
    "    if lab1[i] == 0:\n",
    "        dist1.append(sqrt((x_loc[i]-x1)**2+(y_loc[i]-y1)**2))\n",
    "    if lab1[i] == 1:\n",
    "        dist1.append(sqrt((x_loc[i]-x2)**2+(y_loc[i]-y2)**2))\n",
    "    if lab1[i] == 2:\n",
    "        dist1.append(sqrt((x_loc[i]-x3)**2+(y_loc[i]-y3)**2))\n",
    "    if lab1[i] == 3:\n",
    "        dist1.append(sqrt((x_loc[i]-x4)**2+(y_loc[i]-y4)**2))\n",
    "for i in range(86):\n",
    "    if d0 > dist1[i]:\n",
    "        Etx1.append((Elec*l)+(Efs*l*dist1[i]*dist1[i]))\n",
    "    else:\n",
    "        Etx1.append((Elec*l)+(Emp*l*dist1[i]*dist1[i]*dist1[i]*dist1[i]))\n",
    "final_energy1 = list()\n",
    "for i in range(100):\n",
    "    final_energy1.append(1)\n",
    "cnt =0\n",
    "for i in range(4000):\n",
    "    for j in range(86):\n",
    "        final_energy1[j]-=Etx1[j]\n",
    "        if(final_energy1[j]<=0):\n",
    "            cnt+=1\n",
    "count = 0\n",
    "for i in final_energy1:\n",
    "    if i < 0:\n",
    "        count = count +1\n",
    "print(count)"
   ]
  },
  {
   "cell_type": "code",
   "execution_count": 34,
   "id": "3b24e9d6",
   "metadata": {},
   "outputs": [
    {
     "data": {
      "text/plain": [
       "Text(0.5, 1.0, 'Mean-Shift')"
      ]
     },
     "execution_count": 34,
     "metadata": {},
     "output_type": "execute_result"
    },
    {
     "data": {
      "image/png": "[encoded data removed]",
      "text/plain": [
       "<Figure size 576x396 with 1 Axes>"
      ]
     },
     "metadata": {},
     "output_type": "display_data"
    }
   ],
   "source": [
    "import seaborn as sns\n",
    "sns.scatterplot(x = df[\"X\"] , y = df[\"Y\"] , hue = labels,palette='deep',sizes = (500,500),legend = 'full')\n",
    "sns.scatterplot(x = xcn_ms ,y = ycn_ms , color = 'black')\n",
    "plt.title(\"Mean-Shift\")"
   ]
  },
  {
   "cell_type": "code",
   "execution_count": 36,
   "id": "e6fdf762",
   "metadata": {},
   "outputs": [
    {
     "name": "stdout",
     "output_type": "stream",
     "text": [
      "[[219.59430961  46.50355022]\n",
      " [ 63.14650404 225.62818166]\n",
      " [ 62.64124483  83.81631686]\n",
      " [221.12659541 165.79454018]]\n",
      "[219.594309605305, 63.14650403580338, 62.641244834819865, 221.12659540603218]\n",
      "[46.50355021709185, 225.6281816592605, 83.81631685528107, 165.79454018440725]\n",
      "Number of dead node are : \n",
      "90\n"
     ]
    }
   ],
   "source": [
    "from sklearn_extra.cluster import KMedoids\n",
    "kmedoids = KMedoids(n_clusters=4, random_state=0).fit(df)\n",
    "labels2 = kmedoids.labels_\n",
    "centroids = kmedoids.cluster_centers_\n",
    "print(centroids)\n",
    "xcn_km = [centroids[i][0] for i in range(len(centroids))]\n",
    "ycn_km = [centroids[i][1] for i in range(len(centroids))]\n",
    "print(xcn_km)\n",
    "print(ycn_km)\n",
    "#print(labels2)\n",
    "lab2 = labels2.tolist()\n",
    "dist2 = list()\n",
    "Etx2 = list()\n",
    "x1 = xcn_km[0]\n",
    "x2 = xcn_km[1]\n",
    "x3 = xcn_km[2]\n",
    "x4 = xcn_km[3]\n",
    "y1 = ycn_km[0]\n",
    "y2 = ycn_km[1]\n",
    "y3 = ycn_km[2]\n",
    "y4 = ycn_km[3]\n",
    "Etx2 = list()\n",
    "for i in range(100):\n",
    "    if lab2[i] == 0:\n",
    "        dist2.append(sqrt((x_loc[i]-x1)**2+(y_loc[i]-y1)**2))\n",
    "    if lab2[i] == 1:\n",
    "        dist2.append(sqrt((x_loc[i]-x2)**2+(y_loc[i]-y2)**2))\n",
    "    if lab2[i] == 2:\n",
    "        dist2.append(sqrt((x_loc[i]-x3)**2+(y_loc[i]-y3)**2))\n",
    "    if lab2[i] == 3:\n",
    "        dist2.append(sqrt((x_loc[i]-x4)**2+(y_loc[i]-y4)**2))\n",
    "for i in range(100):\n",
    "    if d0 > dist2[i]:\n",
    "        Etx2.append((Elec*l)+(Efs*l*dist2[i]*dist2[i]))\n",
    "    else:\n",
    "        Etx2.append((Elec*l)+(Emp*l*dist2[i]*dist2[i]*dist2[i]*dist2[i]))\n",
    "final_energy2 = list()\n",
    "for i in range(100):\n",
    "    final_energy2.append(1)\n",
    "\n",
    "cnt =0\n",
    "for i in range(4100):\n",
    "    for j in range(100):\n",
    "        final_energy2[j]-=Etx2[j]\n",
    "        if(final_energy2[j]<=0):\n",
    "            cnt+=1\n",
    "count = 0\n",
    "for i in final_energy2:\n",
    "    if i < 0:\n",
    "        count = count +1\n",
    "print('Number of dead node are : ')\n",
    "print(count)\n"
   ]
  },
  {
   "cell_type": "code",
   "execution_count": 37,
   "id": "3165eab1",
   "metadata": {},
   "outputs": [
    {
     "data": {
      "text/plain": [
       "Text(0.5, 1.0, 'K-Medoids')"
      ]
     },
     "execution_count": 37,
     "metadata": {},
     "output_type": "execute_result"
    },
    {
     "data": {
      "image/png": "[encoded data removed]",
      "text/plain": [
       "<Figure size 576x396 with 1 Axes>"
      ]
     },
     "metadata": {},
     "output_type": "display_data"
    }
   ],
   "source": [
    "import seaborn as sns\n",
    "sns.scatterplot(x = df[\"X\"] , y = df[\"Y\"] , hue = labels,palette='deep',sizes = (500,500),legend = 'full')\n",
    "sns.scatterplot(x = xcn_km ,y = ycn_km , color = 'black')\n",
    "plt.title(\"K-Medoids\")"
   ]
  },
  {
   "cell_type": "code",
   "execution_count": 43,
   "id": "144e61ae",
   "metadata": {
    "scrolled": false
   },
   "outputs": [
    {
     "data": {
      "image/png": "[encoded data removed]",
      "text/plain": [
       "<Figure size 576x396 with 1 Axes>"
      ]
     },
     "metadata": {},
     "output_type": "display_data"
    },
    {
     "data": {
      "image/png": "[encoded data removed]",
      "text/plain": [
       "<Figure size 576x396 with 1 Axes>"
      ]
     },
     "metadata": {},
     "output_type": "display_data"
    },
    {
     "data": {
      "image/png": "[encoded data removed]",
      "text/plain": [
       "<Figure size 576x396 with 1 Axes>"
      ]
     },
     "metadata": {},
     "output_type": "display_data"
    },
    {
     "data": {
      "text/plain": [
       "Text(0.5, 1.0, 'LIVE NODES trend ')"
      ]
     },
     "execution_count": 43,
     "metadata": {},
     "output_type": "execute_result"
    },
    {
     "data": {
      "image/png": "[encoded data removed]",
      "text/plain": [
       "<Figure size 576x396 with 1 Axes>"
      ]
     },
     "metadata": {},
     "output_type": "display_data"
    }
   ],
   "source": [
    "rounds = [0,100,500,1000,1500,2000,2500,3000,3500,4000,4100]\n",
    "KME = [0,0,0,0,0,14,38,63,83,96,100]\n",
    "MS = [0,0,0,1,5,21,50,70,85,97,100]\n",
    "KMD = [0,0,1,2,6,20,40,64,82,100,100]\n",
    "plt.plot(rounds,KME)\n",
    "plt.plot(1540,1,'o',color = 'red')\n",
    "plt.title(\"deadnode trend in K-means\")\n",
    "plt.show()\n",
    "plt.plot(rounds,MS)\n",
    "plt.plot(932,1,'o',color = 'red')\n",
    "plt.title(\"deadnode trend in K-Meanshift\")\n",
    "plt.show()\n",
    "plt.plot(rounds,KMD)\n",
    "plt.plot(436,1,'o',color = 'red')\n",
    "plt.title(\"deadnode trend in K-Medoids\")\n",
    "plt.show()\n",
    "KMEL = [100,100,100,100,100,86,62,37,17,4,0]\n",
    "MSL = [100,100,100,99,95,79,50,30,15,3,0]\n",
    "KMDL = [100,100,99,98,94,80,60,36,18,0,0]\n",
    "plt.plot(rounds,KMEL)\n",
    "plt.plot(rounds,MSL)\n",
    "plt.plot(rounds,KMDL)\n",
    "plt.legend(labels = ['KMEL','MSL','KMDL','FCML'])\n",
    "plt.xlabel(\"Rounds\")\n",
    "plt.ylabel(\"Nodes\")\n",
    "plt.title(\"LIVE NODES trend \")"
   ]
  },
  {
   "cell_type": "code",
   "execution_count": null,
   "id": "11ebeea0",
   "metadata": {},
   "outputs": [],
   "source": [
    "#K-Medoids algorithm works better as it has less number of dead nodes"
   ]
  }
 ],
 "metadata": {
  "kernelspec": {
   "display_name": "Python 3 (ipykernel)",
   "language": "python",
   "name": "python3"
  },
  "language_info": {
   "codemirror_mode": {
    "name": "ipython",
    "version": 3
   },
   "file_extension": ".py",
   "mimetype": "text/x-python",
   "name": "python",
   "nbconvert_exporter": "python",
   "pygments_lexer": "ipython3",
   "version": "3.9.7"
  }
 },
 "nbformat": 4,
 "nbformat_minor": 5
}
